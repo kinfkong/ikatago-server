{
 "cells": [
  {
   "cell_type": "markdown",
   "metadata": {},
   "source": [
    "# 安装 （只需要第一次安装)"
   ]
  },
  {
   "cell_type": "code",
   "execution_count": null,
   "metadata": {},
   "outputs": [],
   "source": [
    "%cd ~\n",
    "# use: CUDA or TENSORRT\n",
    "BACKEND=\"CUDA\"\n",
    "# use: \"AUTO\" or \"30\", \"40\", ...\n",
    "THREAD_NUM=\"AUTO\"\n",
    "!wget -O ./install.sh https://ikatago-resources.oss-cn-beijing.aliyuncs.com/all/install.sh\n",
    "!chmod +x ./install.sh\n",
    "!./install.sh $BACKEND $THREAD_NUM"
   ]
  },
  {
   "cell_type": "markdown",
   "metadata": {},
   "source": [
    "# 运行"
   ]
  },
  {
   "cell_type": "code",
   "execution_count": null,
   "metadata": {},
   "outputs": [],
   "source": [
    "USER_NAME=\"kinfkong\"\n",
    "USER_PASSWORD=\"12345678\"\n",
    "%cd ~/work\n",
    "!./run.sh $USER_NAME $USER_PASSWORD"
   ]
  }
 ],
 "metadata": {
  "kernelspec": {
   "display_name": "Python 3",
   "language": "python",
   "name": "python3"
  },
  "language_info": {
   "codemirror_mode": {
    "name": "ipython",
    "version": 3
   },
   "file_extension": ".py",
   "mimetype": "text/x-python",
   "name": "python",
   "nbconvert_exporter": "python",
   "pygments_lexer": "ipython3",
   "version": "3.6.10"
  }
 },
 "nbformat": 4,
 "nbformat_minor": 4
}
