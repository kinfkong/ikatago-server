{
 "cells": [
  {
   "cell_type": "markdown",
   "metadata": {},
   "source": [
    "# 安装 （只需要第一次安装)\n"
   ]
  },
  {
   "cell_type": "code",
   "execution_count": null,
   "metadata": {},
   "outputs": [],
   "source": [
    "%cd ~\n",
    "!wget -q https://ikatago-resources.oss-cn-beijing.aliyuncs.com/all/install-gomoku.sh -O install-gomoku.sh\n",
    "!chmod +x ./install-gomoku.sh\n",
    "!./install-gomoku.sh"
   ]
  },
  {
   "cell_type": "markdown",
   "metadata": {},
   "source": [
    "# 运行\n",
    "\n",
    "### 改成你自己的用户名、密码，点击运行即可。\n",
    "### _NOTE: 用户名、密码自己任意起就行，只能有字母和数字_"
   ]
  },
  {
   "cell_type": "code",
   "execution_count": null,
   "metadata": {},
   "outputs": [],
   "source": [
    "USER_NAME=\"kinfkong\"\n",
    "USER_PASSWORD=\"12345678\"\n",
    "\n",
    "%cd ~/work\n",
    "!./run.sh $USER_NAME $USER_PASSWORD"
   ]
  },
  {
   "source": [
    "#说明\n",
    "## ikatago客户端\n",
    "在用lizzie连接之前，需要先下载ikatago客户端。  \n",
    "win64用户可以直接点这里下载: [ikatago-1.3.3-win64.zip](https://github.com/kinfkong/ikatago-client/releases/download/1.3.3/ikatago-1.3.3-win64.zip)  \n",
    "其它系统的点这里下载: [https://github.com/kinfkong/ikatago-client/releases/tag/1.3.3](https://github.com/kinfkong/ikatago-client/releases/tag/1.3.3)\n",
    "### Lizzie用法 \n",
    "在lizzie里新增引擎，引擎配置如下: \n",
    "```\n",
    "<ikatago程序路径> --platform all --username <你设置的用户名> --password <你设置的密码>\n",
    "```\n",
    "比如，Windows下可能是这样子:\n",
    "```\n",
    "C:\\xxx\\ikatago.exe --platform all --username xxxxx --password ******\n",
    "```\n",
    "\n",
    "### 如何更换权重\n",
    "```\n",
    "*无禁手六不胜（默认是这个）*\n",
    "C:\\xxx\\ikatago.exe --platform all --username xxxxx --password ****** --kata-weight standard\n",
    "```\n",
    "```\n",
    "*无禁手*\n",
    "C:\\xxx\\ikatago.exe --platform all --username xxxxx --password ****** --kata-weight freestyle\n",
    "```\n",
    "```\n",
    "*无禁手大棋盘*\n",
    "C:\\xxx\\ikatago.exe --platform all --username xxxxx --password ****** --kata-weight freestyle20x\n",
    "```\n",
    "```\n",
    "*有禁手*\n",
    "C:\\xxx\\ikatago.exe --platform all --username xxxxx --password ****** --kata-weight renju\n",
    "```\n",
    "```\n",
    "*有禁手大棋盘*\n",
    "C:\\xxx\\ikatago.exe --platform all --username xxxxx --password ****** --kata-weight renju25x\n",
    "```\n",
    "### 如何修改katago配置文件？\n",
    "你可以通过ikatago客户端，通过`--kata-local-config`来指定你自己本机上的配置文件，比如:\n",
    "\n",
    "```\n",
    "ikatago.exe --kata-local-config C:\\xxx.cfg --username xxx ...\n",
    "```\n",
    "\n",
    "### 如何运行katago benchmark, genconfig等命令 (高级用法，一般人可以忽略)\n",
    "\n",
    "ikatago客户端支持所有katago的子命令，把整条原来katago的命令copy到最后，然后用\"--\"隔开就行\n",
    "比如，运行benchmark:\n",
    "\n",
    "```\n",
    "ikatago.exe --kata-local-config C:\\xxx.cfg --kata-weight standard -- benchmark\n",
    "```\n",
    "再比如gtp\n",
    "```\n",
    "ikatago.exe --kata-local-config C:\\xxx.cfg --kata-weight standard -- gtp -override-config maxVisits=1000\n",
    "```\n",
    "**注: 原来的子命令里如果有\"-model\"或\"-config\"参数的，你也可以照常指定，不指定的话，就分别会用`--kata-weight`、`--kata-local-config`里的。\n",
    "\n",
    "### 为什么分析时选点最多就20个?  \n",
    "因为为了大量降低数据传输量，Lizzie等软件，默认也是只显示前10个，所以不影响体验。如果要增加显示选点的个数（或不限制），可以:   \n",
    "    \"--transmit-move-num 10\" 这样子来修改.\n",
    "    \"--transmit-move-num 0\"表示不限制.\n"
   ],
   "cell_type": "markdown",
   "metadata": {}
  }
 ],
 "metadata": {
  "kernelspec": {
   "display_name": "Python 3",
   "language": "python",
   "name": "python3"
  },
  "language_info": {
   "codemirror_mode": {
    "name": "ipython",
    "version": 3
   },
   "file_extension": ".py",
   "mimetype": "text/x-python",
   "name": "python",
   "nbconvert_exporter": "python",
   "pygments_lexer": "ipython3",
   "version": "3.6.10"
  }
 },
 "nbformat": 4,
 "nbformat_minor": 4
}