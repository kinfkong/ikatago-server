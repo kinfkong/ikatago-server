{
 "cells": [
  {
   "cell_type": "markdown",
   "metadata": {},
   "source": [
    "# 安装 （只需要第一次安装)"
   ]
  },
  {
   "cell_type": "code",
   "execution_count": 10,
   "metadata": {},
   "outputs": [
    {
     "name": "stdout",
     "output_type": "stream",
     "text": [
      "/root\n",
      "Downloading package...\n",
      "Download done\n",
      "Installing...\n",
      "Install Successfully, now you can run the ikatago-server\n"
     ]
    }
   ],
   "source": [
    "%cd ~\n",
    "!wget -q https://ikatago-resources.oss-cn-beijing.aliyuncs.com/all/install.sh -O install.sh\n",
    "!chmod +x ./install.sh\n",
    "!./install.sh ubuntu-18-cuda-10-2"
   ]
  },
  {
   "cell_type": "code",
   "execution_count": null,
   "metadata": {},
   "outputs": [
    {
     "name": "stdout",
     "output_type": "stream",
     "text": [
      "/root/work\n",
      "Server Version: 1.4.1\n",
      "2020/10/17 02:02:42 DEBUG the world is: https://ikatago-fairyland.oss-cn-beijing.aliyuncs.com/world.json\n",
      "2020/10/17 02:02:42 DEBUG Platform: [all]\n",
      "2020/10/17 02:02:43 Token will expires at: 2021-09-30 23:59:59 +0800 CST\n",
      "2020/10/17 02:02:43 \u001b[1;34m[I] [service.go:282] [dab4e1e2f8d952c7] login to server success, get run id [dab4e1e2f8d952c7], server udp port [0]\u001b[0m\n",
      "2020/10/17 02:02:43 \u001b[1;34m[I] [proxy_manager.go:144] [dab4e1e2f8d952c7] proxy added: [kinfkong-ssh-kinfkong]\u001b[0m\n",
      "2020/10/17 02:02:43 \u001b[1;34m[I] [control.go:179] [dab4e1e2f8d952c7] [kinfkong-ssh-kinfkong] start proxy success\u001b[0m\n",
      "\n",
      "\n",
      "SSH HOST: 120.53.123.43\n",
      "SSH PORT: 34377\n",
      "\n",
      "\n",
      "Congratulations! Now ikatago-server is running successfully, waiting for your requests ...\n",
      "\n"
     ]
    }
   ],
   "source": [
    "USER_NAME='kinfkong'\n",
    "USER_PASSWORD='12345678'\n",
    "%cd ~/work/\n",
    "!./run.sh $USER_NAME $USER_PASSWORD"
   ]
  },
  {
   "cell_type": "code",
   "execution_count": null,
   "metadata": {},
   "outputs": [],
   "source": []
  }
 ],
 "metadata": {
  "kernelspec": {
   "display_name": "Python 3",
   "language": "python",
   "name": "python3"
  },
  "language_info": {
   "codemirror_mode": {
    "name": "ipython",
    "version": 3
   },
   "file_extension": ".py",
   "mimetype": "text/x-python",
   "name": "python",
   "nbconvert_exporter": "python",
   "pygments_lexer": "ipython3",
   "version": "3.7.7"
  }
 },
 "nbformat": 4,
 "nbformat_minor": 4
}
